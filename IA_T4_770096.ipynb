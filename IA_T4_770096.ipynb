{
 "cells": [
  {
   "cell_type": "markdown",
   "metadata": {},
   "source": [
    "**Autor:** Felipe Moreira Sallazar \n",
    "\n",
    "**Contato:** sallazarfelipe@gmail.com\n",
    "\n",
    "**Vídeo de explicação:** [Inteligência Artificial - Aprendizado de Máquina Não Supervisionado](https://youtu.be/OALwnR4HgjU)"
   ]
  },
  {
   "cell_type": "markdown",
   "metadata": {},
   "source": [
    "**Problema:**\n",
    "\n",
    "Esta tarefa consiste na execução do algoritmo de aprendizado não supervisionado para agrupamento (k-means) estudado na disciplina, para definição do melhor número de grupos usando o método do “cotovelo”, usando a biblioteca [sklearn](https://scikit-learn.org/stable/index.html). \n",
    "\n",
    " O conjunto de dados pode ser selecionado no repositório [UCI](http://archive.ics.uci.edu/ml/) ou no site da  ferramenta  [Weka](http://www.cs.waikato.ac.nz/ml/weka/)  e  deve  ser  diferente  daquele  usado  nos exemplo da aula e das videoaulas. \n"
   ]
  },
  {
   "cell_type": "markdown",
   "metadata": {},
   "source": [
    "**Exercício:**\n",
    "\n",
    "As etapas que devem ser executadas e relatadas são:\n",
    "\n",
    "• Selecionar um conjunto de dados  rotulado, para fazer validação externa usando as  classes; Para o agrupamento, a classe deve ser retirada;\n",
    "\n",
    "• Ler o conjunto de dados no formato .csv coma função read.csv() (biblioteca Pandas);\n",
    "\n",
    "• Criar outra tabela de dados retirando a coluna referente às classes;\n",
    "\n",
    "• Fazer as transformações que forem necessárias: transformar atributos nominais em binários com a função get_dummies() e normalizar os atributos contínuos com a função fit() da classe MinMaxScaler (biblioteca sklearn.preprocessing);\n",
    "\n",
    "• Aplicar o algoritmo k-means no conjunto de dados sem a classe definindo o número de grupos como o número de classes do conjunto de dados; \n",
    "\n",
    "• Aplicar  os  índices  de  validação  ARI  (Adjusted  Rand  Index)  e  AMI  (Adjusted  Mutual  Information) usando as funções disponíveis na biblioteca scikit-learn; \n",
    "\n",
    "• Definir  um  intervalo  de  valores  para  número  de  grupos  (por  exemplo,  de  2  a  15,  ou  um  intervalo maior caso seja necessário para visualizar a variação do índice no gráfico); \n",
    "\n",
    "• Aplicar o algoritmo k-means no conjunto de dados (sem a classe) para todos os valores do intervalo definido usando a classe KMeans e a função fit() (módulo sklearn.cluster); \n",
    "\n",
    "• Coletar o valor do índice soma quadrática das distâncias para todos os agrupamentos encontrados usando o atributo inertia_ da classe KMeans (módulo sklearn.cluster); \n",
    "\n",
    "• Coletar o valor do índice de validação silhueta, usando a função da biblioteca scikit-learn; \n",
    "\n",
    "• Plotar o gráfico dos índices erro quadrático encontrados para cada número de grupos e determinar qual é o melhor de acordo com o método do cotovelo. \n",
    "\n",
    "• Plotar o gráfico dos índices de silhueta encontrados para cada número de grupos e determinar qual é o  melhor de acordo com o método do cotovelo."
   ]
  },
  {
   "cell_type": "markdown",
   "metadata": {},
   "source": [
    "**[Link](http://archive.ics.uci.edu/dataset/544/estimation+of+obesity+levels+based+on+eating+habits+and+physical+condition) da base escolhida**"
   ]
  },
  {
   "cell_type": "markdown",
   "metadata": {},
   "source": [
    "## **Resolução do problema:**\n",
    "\n",
    "Iniciando com a importação das bibliotecas e da Base de Dados a ser utilizada."
   ]
  },
  {
   "cell_type": "code",
   "execution_count": null,
   "metadata": {},
   "outputs": [],
   "source": [
    "import matplotlib.pyplot as plt\n",
    "import pandas as pd\n",
    "from sklearn.cluster import KMeans\n",
    "from sklearn.metrics import adjusted_rand_score, adjusted_mutual_info_score, silhouette_score\n",
    "from sklearn.preprocessing import MinMaxScaler\n",
    "from ucimlrepo import fetch_ucirepo\n",
    "from yellowbrick.cluster import KElbowVisualizer\n",
    "\n",
    "# fetch dataset \n",
    "dataset= fetch_ucirepo(id=544) "
   ]
  },
  {
   "cell_type": "markdown",
   "metadata": {},
   "source": [
    "Criação da tabela de dados, matendo os ros targets em uma tabela separada."
   ]
  },
  {
   "cell_type": "code",
   "execution_count": null,
   "metadata": {},
   "outputs": [],
   "source": [
    "# Data (como pandas dataframes) \n",
    "X = dataset.data.features \n",
    "Y = dataset.data.targets \n",
    "Y.rename(columns={Y.columns[-1]: 'Target'}, inplace=True)\n",
    "\n",
    "df = pd.concat([X, Y], axis=1)\n",
    "\n",
    "# Metadata \n",
    "print(dataset.metadata) \n",
    "# variable information \n",
    "print(df.dtypes)\n",
    "# Data Frame\n",
    "df"
   ]
  },
  {
   "cell_type": "markdown",
   "metadata": {},
   "source": [
    "Fazendo a transformações dos atributos nominais em binários e aplicando a normalização dos dados."
   ]
  },
  {
   "cell_type": "code",
   "execution_count": null,
   "metadata": {},
   "outputs": [],
   "source": [
    "# Transformar atributos nominais em binários (se necessário)\n",
    "# Filtra os atributos do tipo 'object'\n",
    "categorical_cols = X.select_dtypes(include=['object']).columns\n",
    "print(categorical_cols)\n",
    "\n",
    "#Transformar atributos categóricos em binários com a função get_dummies()\n",
    "X_encoded = X.copy()\n",
    "for col in categorical_cols:\n",
    "    dummies = pd.get_dummies(X_encoded[col], prefix=col)\n",
    "    X_encoded = pd.concat([X_encoded, dummies], axis=1)\n",
    "    X_encoded.drop(col, axis=1, inplace=True)\n",
    "\n",
    "# Normalizar os atributos contínuos com MinMaxScaler()\n",
    "mms = MinMaxScaler()\n",
    "\n",
    "mms.fit(X_encoded)\n",
    "X_transformed = mms.transform(X_encoded)\n",
    "X_transformed = pd.DataFrame(X_transformed, columns=X_encoded.columns)\n",
    "X_transformed.head()"
   ]
  },
  {
   "cell_type": "markdown",
   "metadata": {},
   "source": [
    "Aplicação do algoritmo K-means no conjunto selecionado com base no número de classes contidas no Target."
   ]
  },
  {
   "cell_type": "code",
   "execution_count": null,
   "metadata": {},
   "outputs": [],
   "source": [
    "resultados_possiveis = Y['Target'].unique()\n",
    "k = len(resultados_possiveis)\n",
    "km = KMeans(n_clusters=k, random_state=42)\n",
    "km = km.fit(X_transformed)\n",
    "labels = Y.values.ravel() \n",
    "labels_pred = km.labels_\n",
    "labels, labels_pred"
   ]
  },
  {
   "cell_type": "markdown",
   "metadata": {},
   "source": [
    "Aplicando os indices de validação ARI (Adjusted Rand Index) e AMI (Adjusted Mutual Information)."
   ]
  },
  {
   "cell_type": "code",
   "execution_count": null,
   "metadata": {},
   "outputs": [],
   "source": [
    "# Calcular ARI e AMI\n",
    "ari = adjusted_rand_score(labels, labels_pred)\n",
    "ami = adjusted_mutual_info_score(labels, labels_pred)\n",
    "print(f'ARI: {ari:.4f}, AMI: {ami:.4f}')"
   ]
  },
  {
   "cell_type": "markdown",
   "metadata": {},
   "source": [
    "Definindo um intervalo de valores para número de grupos para visualizar a variação do índice no gráfico."
   ]
  },
  {
   "cell_type": "code",
   "execution_count": null,
   "metadata": {},
   "outputs": [],
   "source": [
    "intervalo = (2,20)"
   ]
  },
  {
   "cell_type": "markdown",
   "metadata": {},
   "source": [
    "Aplicando o algoritmo k-means no conjunto de dados para todos os valores do intervalo definido. Coletando os valores do índice soma quadrática das distâncias (inertia_) e do índice de validação silhueta (silhouette_score) para cada número de clusters."
   ]
  },
  {
   "cell_type": "code",
   "execution_count": null,
   "metadata": {},
   "outputs": [],
   "source": [
    "K = range(*intervalo)\n",
    "\n",
    "Sum_of_squared_distances = []\n",
    "Silhouette_values = []\n",
    "for clusters in K:\n",
    "    km = KMeans(n_clusters=clusters, random_state=42)\n",
    "    km = km.fit(X_transformed)\n",
    "    Sum_of_squared_distances.append(km.inertia_)\n",
    "    Silhouette_values.append(silhouette_score(X_transformed, km.labels_))"
   ]
  },
  {
   "cell_type": "markdown",
   "metadata": {},
   "source": [
    "Plotando o gráfico dos índices erro quadrático encontrados para cada número de grupos e determinando qual é o melhor de acordo com o método do cotovelo (utilizando o **KElbowVisualizer** da biblioteca **yellowbrick.cluster**)."
   ]
  },
  {
   "cell_type": "code",
   "execution_count": null,
   "metadata": {},
   "outputs": [],
   "source": [
    "model = KMeans(random_state=42)\n",
    "visualizer = KElbowVisualizer(model, k=intervalo, metric='distortion', timings=False)\n",
    "visualizer.fit(X_transformed)\n",
    "\n",
    "plt.plot(K, Sum_of_squared_distances, 'rx-')\n",
    "plt.xlabel('k')\n",
    "plt.ylabel('Soma dos quadrados das distâncias')\n",
    "plt.title('Método do Cotovelo para encontrar melhor valor de k')\n",
    "plt.show()"
   ]
  },
  {
   "cell_type": "markdown",
   "metadata": {},
   "source": [
    "Plotando o gráfico dos índices de silhueta encontrados para cada número de grupos e determinando qual é o melhor de acordo com o método do cotovelo (utilizando o **KElbowVisualizer** da biblioteca **yellowbrick.cluster**)."
   ]
  },
  {
   "cell_type": "code",
   "execution_count": null,
   "metadata": {},
   "outputs": [],
   "source": [
    "model = KMeans(random_state=42)\n",
    "visualizer = KElbowVisualizer(model, k=intervalo, metric='silhouette', timings=False)\n",
    "visualizer.fit(X_transformed)\n",
    "\n",
    "plt.plot(K, Silhouette_values, 'rx-')\n",
    "plt.xlabel('k')\n",
    "plt.ylabel('Índices de silhueta')\n",
    "plt.title('Método do Cotovelo para encontrar melhor valor de k')\n",
    "plt.show()"
   ]
  }
 ],
 "metadata": {
  "kernelspec": {
   "display_name": "venv",
   "language": "python",
   "name": "python3"
  },
  "language_info": {
   "codemirror_mode": {
    "name": "ipython",
    "version": 3
   },
   "file_extension": ".py",
   "mimetype": "text/x-python",
   "name": "python",
   "nbconvert_exporter": "python",
   "pygments_lexer": "ipython3",
   "version": "3.10.0"
  }
 },
 "nbformat": 4,
 "nbformat_minor": 2
}
